{
 "cells": [
  {
   "cell_type": "code",
   "execution_count": 12,
   "outputs": [
    {
     "data": {
      "text/plain": "'\\n@author: jun_li\\n@contact: leoli19981021@163.com\\n@file: Lim_read.ipynb\\n@time: 2022/7/7 22:28\\n@description: Li & Lim benchmark data read\\n'"
     },
     "execution_count": 12,
     "metadata": {},
     "output_type": "execute_result"
    }
   ],
   "source": [
    "# -*- coding: utf-8 -*-\n",
    "\"\"\"\n",
    "@author: jun_li\n",
    "@contact: leoli19981021@163.com\n",
    "@file: Lim_read.ipynb\n",
    "@time: 2022/7/7 22:28\n",
    "@description: Li & Lim benchmark data read\n",
    "\"\"\""
   ],
   "metadata": {
    "collapsed": false,
    "pycharm": {
     "name": "#%%\n"
    }
   }
  },
  {
   "cell_type": "code",
   "execution_count": 13,
   "outputs": [],
   "source": [
    "import pandas as pd\n",
    "import numpy as np\n"
   ],
   "metadata": {
    "collapsed": false,
    "pycharm": {
     "name": "#%%\n"
    }
   }
  },
  {
   "cell_type": "code",
   "execution_count": 14,
   "outputs": [],
   "source": [
    "\"\"\"Node class\"\"\"\n",
    "class Node:\n",
    "    def __init__(self):\n",
    "        self.id = 0\n",
    "        self.TaskNo = 0\n",
    "        self.x_coord = 0\n",
    "        self.y_coord = 0\n",
    "        self.demand = 0\n",
    "        self.early_time = 0\n",
    "        self.last_time = 0\n",
    "        self.service_time = 0\n",
    "        self.priority = 0"
   ],
   "metadata": {
    "collapsed": false,
    "pycharm": {
     "name": "#%%\n"
    }
   }
  },
  {
   "cell_type": "code",
   "execution_count": 15,
   "outputs": [],
   "source": [
    "class Model:\n",
    "    def __init__(self):\n",
    "        self.best_sol = None\n",
    "        self.node_dict = {}\n",
    "        self.node_id_list = []\n",
    "        self.sol_list = []\n",
    "\n",
    "        self.distance_matrix = {} # {}创建字典\n",
    "        self.time_matrix = {} # add 旅行时间矩阵\n",
    "        self.vehicle_speed = 1 # add 车辆行驶速度\n",
    "        self.vehicle_cap = 80\n",
    "\n",
    "        self.popsize = 30\n",
    "\n",
    "        # 算法参数\n",
    "\n"
   ],
   "metadata": {
    "collapsed": false,
    "pycharm": {
     "name": "#%%\n"
    }
   }
  },
  {
   "cell_type": "code",
   "execution_count": 16,
   "outputs": [
    {
     "data": {
      "text/plain": "'转为xlsx格式'"
     },
     "execution_count": 16,
     "metadata": {},
     "output_type": "execute_result"
    }
   ],
   "source": [
    "\"\"\"转为xlsx格式\"\"\"\n",
    "# DataPath = 'LiLimPDPTWbenchmark/pdptw100_revised/lc101.txt'\n",
    "# columnNames = ['TaskNo','X','Y','Demand','ET','LT','ST','PI','DI']\n",
    "# taskData = pd.read_table(DataPath, skiprows=[0], names = columnNames)\n",
    "# taskData.to_excel('Li&Lim_lc101.xlsx')"
   ],
   "metadata": {
    "collapsed": false,
    "pycharm": {
     "name": "#%%\n"
    }
   }
  },
  {
   "cell_type": "code",
   "execution_count": 17,
   "outputs": [],
   "source": [
    "def read_txt_data(DataPath):\n",
    "    # 读取车辆信息\n",
    "    vehiclesInfo = pd.read_table(DataPath, nrows=1, names=['K','C','S'])\n",
    "    # print(vehiclesInfo)\n",
    "    # 读取Depot和任务信息\n",
    "    columnNames = ['TaskNo','X','Y','Demand','ET','LT','ST','PI','DI']\n",
    "    taskData = pd.read_table(DataPath, skiprows=[0], names = columnNames)\n",
    "\n",
    "    # print(taskData['TaskNo'][75],taskData['X'][75])\n",
    "    # print(taskData.iloc[0][0])\n",
    "    \"\"\"重建df 1-53商家 54-106顾客\"\"\"\n",
    "    dict = {}\n",
    "    for i in range(len(taskData)):\n",
    "        # 如果为仓库\n",
    "        if i == 0:\n",
    "            dict[0] = [taskData['TaskNo'][i], taskData['X'][i], taskData['Y'][i], taskData['Demand'][i], taskData['ET'][i], taskData['LT'][i], taskData['ST'][i], taskData['PI'][i], taskData['DI'][i]]\n",
    "        # 商家 1-53\n",
    "        else:\n",
    "            if taskData['DI'][i] > 0:\n",
    "                dict[len(dict)] = [taskData['TaskNo'][i], taskData['X'][i], taskData['Y'][i], taskData['Demand'][i], taskData['ET'][i], taskData['LT'][i], taskData['ST'][i], taskData['PI'][i], taskData['DI'][i]]\n",
    "    # 顾客 54-106\n",
    "    for i in range(1, len(dict)):\n",
    "        dict[len(dict)] = [taskData['TaskNo'][dict[i][-1]], taskData['X'][dict[i][-1]], taskData['Y'][dict[i][-1]], taskData['Demand'][dict[i][-1]], taskData['ET'][dict[i][-1]], taskData['LT'][dict[i][-1]], taskData['ST'][dict[i][-1]], taskData['PI'][dict[i][-1]], taskData['DI'][dict[i][-1]]]\n",
    "\n",
    "    return dict\n",
    "\n"
   ],
   "metadata": {
    "collapsed": false,
    "pycharm": {
     "name": "#%%\n"
    }
   }
  },
  {
   "cell_type": "code",
   "execution_count": 18,
   "outputs": [
    {
     "data": {
      "text/plain": "{0: [0, 40, 50, 0, 0, 1236, 0, 0, 0],\n 1: [3, 42, 66, 10, 65, 146, 90, 0, 75],\n 2: [5, 42, 65, 10, 15, 67, 90, 0, 7],\n 3: [6, 40, 69, 20, 621, 702, 90, 0, 2],\n 4: [8, 38, 68, 20, 255, 324, 90, 0, 10],\n 5: [9, 38, 70, 10, 534, 605, 90, 0, 4],\n 6: [11, 35, 69, 10, 448, 505, 90, 0, 1],\n 7: [13, 22, 75, 30, 30, 92, 90, 0, 17],\n 8: [16, 20, 85, 40, 475, 528, 90, 0, 14],\n 9: [18, 15, 75, 20, 179, 254, 90, 0, 12],\n 10: [19, 15, 80, 10, 278, 345, 90, 0, 15],\n 11: [20, 30, 50, 10, 10, 73, 90, 0, 24],\n 12: [23, 28, 55, 10, 732, 777, 0, 0, 103],\n 13: [25, 25, 52, 40, 169, 224, 90, 0, 27],\n 14: [28, 23, 55, 20, 546, 593, 90, 0, 22],\n 15: [29, 20, 50, 10, 358, 405, 90, 0, 26],\n 16: [30, 20, 55, 10, 449, 504, 90, 0, 21],\n 17: [32, 10, 40, 30, 31, 100, 90, 0, 31],\n 18: [33, 8, 40, 40, 87, 158, 90, 0, 37],\n 19: [35, 5, 35, 10, 283, 344, 90, 0, 39],\n 20: [36, 5, 45, 10, 665, 716, 0, 0, 105],\n 21: [38, 0, 40, 30, 479, 522, 90, 0, 34],\n 22: [42, 33, 32, 20, 68, 149, 90, 0, 40],\n 23: [43, 33, 35, 10, 16, 80, 90, 0, 41],\n 24: [44, 32, 30, 10, 359, 412, 90, 0, 46],\n 25: [45, 30, 30, 10, 541, 600, 90, 0, 48],\n 26: [49, 28, 35, 10, 1001, 1066, 90, 0, 47],\n 27: [50, 26, 32, 10, 815, 880, 90, 0, 52],\n 28: [51, 25, 30, 10, 725, 786, 0, 0, 101],\n 29: [53, 44, 5, 20, 286, 347, 90, 0, 58],\n 30: [54, 42, 10, 40, 186, 257, 90, 0, 60],\n 31: [56, 40, 5, 30, 385, 436, 90, 0, 59],\n 32: [57, 40, 15, 40, 35, 87, 90, 0, 55],\n 33: [62, 50, 35, 20, 262, 317, 90, 0, 68],\n 34: [63, 50, 40, 50, 171, 218, 90, 0, 74],\n 35: [64, 48, 30, 10, 632, 693, 0, 0, 102],\n 36: [65, 48, 40, 10, 76, 129, 90, 0, 72],\n 37: [66, 47, 35, 10, 826, 875, 90, 0, 69],\n 38: [67, 47, 40, 10, 12, 77, 90, 0, 61],\n 39: [71, 95, 35, 20, 293, 360, 90, 0, 77],\n 40: [76, 90, 35, 10, 203, 260, 90, 0, 73],\n 41: [78, 88, 35, 20, 109, 170, 0, 0, 104],\n 42: [79, 87, 30, 10, 668, 731, 90, 0, 80],\n 43: [81, 85, 35, 30, 47, 124, 90, 0, 70],\n 44: [82, 75, 55, 20, 369, 420, 90, 0, 85],\n 45: [84, 70, 58, 20, 458, 523, 90, 0, 89],\n 46: [86, 66, 55, 10, 173, 238, 90, 0, 91],\n 47: [87, 65, 55, 20, 85, 144, 90, 0, 83],\n 48: [90, 60, 55, 10, 20, 84, 90, 0, 88],\n 49: [92, 67, 85, 20, 368, 441, 90, 0, 93],\n 50: [96, 60, 80, 10, 95, 156, 90, 0, 94],\n 51: [97, 60, 85, 30, 561, 622, 0, 0, 106],\n 52: [98, 58, 75, 20, 30, 84, 90, 0, 95],\n 53: [100, 55, 85, 20, 647, 726, 90, 0, 99],\n 54: [75, 45, 65, -10, 997, 1068, 90, 3, 0],\n 55: [7, 40, 66, -10, 170, 225, 90, 5, 0],\n 56: [2, 45, 70, -20, 825, 870, 90, 6, 0],\n 57: [10, 35, 66, -20, 357, 410, 90, 8, 0],\n 58: [4, 42, 68, -10, 727, 782, 90, 9, 0],\n 59: [1, 45, 68, -10, 912, 967, 90, 11, 0],\n 60: [17, 18, 75, -30, 99, 148, 90, 13, 0],\n 61: [14, 22, 85, -40, 567, 620, 90, 16, 0],\n 62: [12, 25, 85, -20, 652, 721, 90, 18, 0],\n 63: [15, 20, 80, -10, 384, 429, 90, 19, 0],\n 64: [24, 25, 50, -10, 65, 144, 90, 20, 0],\n 65: [103, 28, 55, -10, 732, 777, 90, 23, 0],\n 66: [27, 23, 52, -40, 261, 316, 90, 25, 0],\n 67: [22, 28, 52, -20, 812, 883, 90, 28, 0],\n 68: [26, 25, 55, -10, 622, 701, 90, 29, 0],\n 69: [21, 30, 52, -10, 914, 965, 90, 30, 0],\n 70: [31, 10, 35, -30, 200, 237, 90, 32, 0],\n 71: [37, 2, 40, -40, 383, 434, 90, 33, 0],\n 72: [39, 0, 45, -10, 567, 624, 90, 35, 0],\n 73: [105, 5, 45, -10, 665, 716, 90, 36, 0],\n 74: [34, 8, 45, -30, 751, 816, 90, 38, 0],\n 75: [40, 35, 30, -20, 264, 321, 90, 42, 0],\n 76: [41, 35, 32, -10, 166, 235, 90, 43, 0],\n 77: [46, 30, 32, -10, 448, 509, 90, 44, 0],\n 78: [48, 28, 30, -10, 632, 693, 90, 45, 0],\n 79: [47, 30, 35, -10, 1054, 1127, 90, 49, 0],\n 80: [52, 25, 35, -10, 912, 969, 90, 50, 0],\n 81: [101, 25, 30, -10, 725, 786, 90, 51, 0],\n 82: [58, 38, 5, -20, 471, 534, 90, 53, 0],\n 83: [60, 35, 5, -40, 562, 629, 90, 54, 0],\n 84: [59, 38, 15, -30, 651, 740, 90, 56, 0],\n 85: [55, 42, 15, -40, 95, 158, 90, 57, 0],\n 86: [68, 45, 30, -20, 734, 777, 90, 62, 0],\n 87: [74, 53, 35, -50, 353, 412, 90, 63, 0],\n 88: [102, 48, 30, -10, 632, 693, 90, 64, 0],\n 89: [72, 53, 30, -10, 450, 505, 90, 65, 0],\n 90: [69, 45, 35, -10, 916, 969, 90, 66, 0],\n 91: [61, 50, 30, -10, 531, 610, 90, 67, 0],\n 92: [77, 88, 30, -20, 574, 643, 90, 71, 0],\n 93: [73, 92, 30, -10, 478, 551, 90, 76, 0],\n 94: [104, 88, 35, -20, 109, 170, 90, 78, 0],\n 95: [80, 85, 25, -10, 769, 820, 90, 79, 0],\n 96: [70, 95, 30, -30, 387, 456, 90, 81, 0],\n 97: [85, 68, 60, -20, 555, 612, 90, 82, 0],\n 98: [89, 63, 58, -20, 737, 802, 90, 84, 0],\n 99: [91, 60, 60, -10, 836, 889, 90, 86, 0],\n 100: [83, 72, 55, -20, 265, 338, 90, 87, 0],\n 101: [88, 65, 60, -10, 645, 708, 90, 90, 0],\n 102: [93, 65, 85, -20, 475, 518, 90, 92, 0],\n 103: [94, 65, 82, -10, 285, 336, 90, 96, 0],\n 104: [106, 60, 85, -30, 561, 622, 90, 97, 0],\n 105: [95, 62, 80, -20, 196, 239, 90, 98, 0],\n 106: [99, 55, 80, -20, 743, 820, 90, 100, 0]}"
     },
     "execution_count": 18,
     "metadata": {},
     "output_type": "execute_result"
    }
   ],
   "source": [
    "DataPath = 'LiLimPDPTWbenchmark/pdptw100_revised/lc101.txt'\n",
    "dict = read_txt_data(DataPath)\n",
    "dict"
   ],
   "metadata": {
    "collapsed": false,
    "pycharm": {
     "name": "#%%\n"
    }
   }
  },
  {
   "cell_type": "code",
   "execution_count": 20,
   "outputs": [
    {
     "data": {
      "text/plain": "       0   1   2   3    4     5   6    7   8\n0      0  40  50   0    0  1236   0    0   0\n1      3  42  66  10   65   146  90    0  75\n2      5  42  65  10   15    67  90    0   7\n3      6  40  69  20  621   702  90    0   2\n4      8  38  68  20  255   324  90    0  10\n..   ...  ..  ..  ..  ...   ...  ..  ...  ..\n102   93  65  85 -20  475   518  90   92   0\n103   94  65  82 -10  285   336  90   96   0\n104  106  60  85 -30  561   622  90   97   0\n105   95  62  80 -20  196   239  90   98   0\n106   99  55  80 -20  743   820  90  100   0\n\n[107 rows x 9 columns]",
      "text/html": "<div>\n<style scoped>\n    .dataframe tbody tr th:only-of-type {\n        vertical-align: middle;\n    }\n\n    .dataframe tbody tr th {\n        vertical-align: top;\n    }\n\n    .dataframe thead th {\n        text-align: right;\n    }\n</style>\n<table border=\"1\" class=\"dataframe\">\n  <thead>\n    <tr style=\"text-align: right;\">\n      <th></th>\n      <th>0</th>\n      <th>1</th>\n      <th>2</th>\n      <th>3</th>\n      <th>4</th>\n      <th>5</th>\n      <th>6</th>\n      <th>7</th>\n      <th>8</th>\n    </tr>\n  </thead>\n  <tbody>\n    <tr>\n      <th>0</th>\n      <td>0</td>\n      <td>40</td>\n      <td>50</td>\n      <td>0</td>\n      <td>0</td>\n      <td>1236</td>\n      <td>0</td>\n      <td>0</td>\n      <td>0</td>\n    </tr>\n    <tr>\n      <th>1</th>\n      <td>3</td>\n      <td>42</td>\n      <td>66</td>\n      <td>10</td>\n      <td>65</td>\n      <td>146</td>\n      <td>90</td>\n      <td>0</td>\n      <td>75</td>\n    </tr>\n    <tr>\n      <th>2</th>\n      <td>5</td>\n      <td>42</td>\n      <td>65</td>\n      <td>10</td>\n      <td>15</td>\n      <td>67</td>\n      <td>90</td>\n      <td>0</td>\n      <td>7</td>\n    </tr>\n    <tr>\n      <th>3</th>\n      <td>6</td>\n      <td>40</td>\n      <td>69</td>\n      <td>20</td>\n      <td>621</td>\n      <td>702</td>\n      <td>90</td>\n      <td>0</td>\n      <td>2</td>\n    </tr>\n    <tr>\n      <th>4</th>\n      <td>8</td>\n      <td>38</td>\n      <td>68</td>\n      <td>20</td>\n      <td>255</td>\n      <td>324</td>\n      <td>90</td>\n      <td>0</td>\n      <td>10</td>\n    </tr>\n    <tr>\n      <th>...</th>\n      <td>...</td>\n      <td>...</td>\n      <td>...</td>\n      <td>...</td>\n      <td>...</td>\n      <td>...</td>\n      <td>...</td>\n      <td>...</td>\n      <td>...</td>\n    </tr>\n    <tr>\n      <th>102</th>\n      <td>93</td>\n      <td>65</td>\n      <td>85</td>\n      <td>-20</td>\n      <td>475</td>\n      <td>518</td>\n      <td>90</td>\n      <td>92</td>\n      <td>0</td>\n    </tr>\n    <tr>\n      <th>103</th>\n      <td>94</td>\n      <td>65</td>\n      <td>82</td>\n      <td>-10</td>\n      <td>285</td>\n      <td>336</td>\n      <td>90</td>\n      <td>96</td>\n      <td>0</td>\n    </tr>\n    <tr>\n      <th>104</th>\n      <td>106</td>\n      <td>60</td>\n      <td>85</td>\n      <td>-30</td>\n      <td>561</td>\n      <td>622</td>\n      <td>90</td>\n      <td>97</td>\n      <td>0</td>\n    </tr>\n    <tr>\n      <th>105</th>\n      <td>95</td>\n      <td>62</td>\n      <td>80</td>\n      <td>-20</td>\n      <td>196</td>\n      <td>239</td>\n      <td>90</td>\n      <td>98</td>\n      <td>0</td>\n    </tr>\n    <tr>\n      <th>106</th>\n      <td>99</td>\n      <td>55</td>\n      <td>80</td>\n      <td>-20</td>\n      <td>743</td>\n      <td>820</td>\n      <td>90</td>\n      <td>100</td>\n      <td>0</td>\n    </tr>\n  </tbody>\n</table>\n<p>107 rows × 9 columns</p>\n</div>"
     },
     "execution_count": 20,
     "metadata": {},
     "output_type": "execute_result"
    }
   ],
   "source": [
    "df = pd.DataFrame(dict)\n",
    "df.T"
   ],
   "metadata": {
    "collapsed": false,
    "pycharm": {
     "name": "#%%\n"
    }
   }
  },
  {
   "cell_type": "code",
   "execution_count": 21,
   "outputs": [],
   "source": [
    "\"\"\"转为xlsx格式\"\"\"\n",
    "\n",
    "df.T.to_excel('Li&Lim_lc101_change.xlsx')"
   ],
   "metadata": {
    "collapsed": false,
    "pycharm": {
     "name": "#%%\n"
    }
   }
  },
  {
   "cell_type": "code",
   "execution_count": 7,
   "outputs": [],
   "source": [
    "\"\"\"储存数据函数\"\"\"\n",
    "def saveData(DataPath, model) -> dict:\n",
    "    dict = read_txt_data(DataPath)\n",
    "    for i in range(len(dict)):\n",
    "        node = Node()\n",
    "        node.id = int(i)\n",
    "        node.TaskNo = int(dict[i][0])\n",
    "        node.x_coord = float(dict[i][1])\n",
    "        node.y_coord = float(dict[i][2])\n",
    "        node.demand = float(dict[i][3])\n",
    "        node.early_time = float(dict[i][4])\n",
    "        node.last_time = float(dict[i][5])\n",
    "        node.service_time = float(dict[i][6])\n",
    "        # node.priority = int(dict[i][i])\n",
    "        model.node_dict[node.id] = node\n",
    "        model.node_id_list.append(node.id)"
   ],
   "metadata": {
    "collapsed": false,
    "pycharm": {
     "name": "#%%\n"
    }
   }
  },
  {
   "cell_type": "code",
   "execution_count": 8,
   "outputs": [],
   "source": [
    "DataPath = 'LiLimPDPTWbenchmark/pdptw100_revised/lc101.txt'\n",
    "model = Model()\n",
    "saveData(DataPath, model)"
   ],
   "metadata": {
    "collapsed": false,
    "pycharm": {
     "name": "#%%\n"
    }
   }
  },
  {
   "cell_type": "code",
   "execution_count": null,
   "outputs": [],
   "source": [],
   "metadata": {
    "collapsed": false,
    "pycharm": {
     "name": "#%%\n"
    }
   }
  },
  {
   "cell_type": "code",
   "execution_count": null,
   "outputs": [],
   "source": [],
   "metadata": {
    "collapsed": false,
    "pycharm": {
     "name": "#%%\n"
    }
   }
  }
 ],
 "metadata": {
  "kernelspec": {
   "display_name": "Python 3",
   "language": "python",
   "name": "python3"
  },
  "language_info": {
   "codemirror_mode": {
    "name": "ipython",
    "version": 2
   },
   "file_extension": ".py",
   "mimetype": "text/x-python",
   "name": "python",
   "nbconvert_exporter": "python",
   "pygments_lexer": "ipython2",
   "version": "2.7.6"
  }
 },
 "nbformat": 4,
 "nbformat_minor": 0
}